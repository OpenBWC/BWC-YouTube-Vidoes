{
 "cells": [
  {
   "cell_type": "code",
   "execution_count": 1,
   "metadata": {},
   "outputs": [
    {
     "name": "stdout",
     "output_type": "stream",
     "text": [
      "Pinged your deployment. You successfully connected to MongoDB!\n",
      "yt-database\n",
      "admin\n",
      "local\n"
     ]
    }
   ],
   "source": [
    "import MongoConnection as MC\n",
    "\n",
    "\n",
    "\n",
    "MC.get_mongo_creds()\n",
    "mongo_client = MC.construct_mongo_connection()\n",
    "yt_database = MC.create_establish_yt_database(mongo_client)\n",
    "UOF_collection = MC.instantiate_UOF_collection(yt_database)"
   ]
  },
  {
   "cell_type": "code",
   "execution_count": 34,
   "metadata": {},
   "outputs": [],
   "source": [
    "import csv\n",
    "from pprint import PrettyPrinter\n",
    "pp = PrettyPrinter()\n",
    "\n",
    "ex = {\"$exists\":True}\n",
    "exists_expression = {\"video_title\": ex}\n",
    "result = UOF_collection.find(exists_expression)\n",
    "\n",
    "\n",
    "\n",
    "    \n",
    "with open(\"yt-titles.txt\",\"w\") as file:\n",
    "    for item in result:\n",
    "\n",
    "        if item['video_title'] == \"Deleted video\":\n",
    "            continue\n",
    "        else:\n",
    "            title = item['video_title']\n",
    "            title = title + \"\\n\"\n",
    "            file.write(title)\n",
    "            "
   ]
  },
  {
   "cell_type": "code",
   "execution_count": 28,
   "metadata": {},
   "outputs": [],
   "source": []
  }
 ],
 "metadata": {
  "kernelspec": {
   "display_name": "rpd-yt-scraping",
   "language": "python",
   "name": "python3"
  },
  "language_info": {
   "codemirror_mode": {
    "name": "ipython",
    "version": 3
   },
   "file_extension": ".py",
   "mimetype": "text/x-python",
   "name": "python",
   "nbconvert_exporter": "python",
   "pygments_lexer": "ipython3",
   "version": "3.10.14"
  }
 },
 "nbformat": 4,
 "nbformat_minor": 2
}
