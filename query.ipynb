{
 "cells": [
  {
   "cell_type": "code",
   "execution_count": 2,
   "metadata": {},
   "outputs": [],
   "source": [
    "import os\n",
    "import pymongo\n",
    "from bson.objectid import ObjectId\n",
    "import MongoConnection\n",
    "from icecream import ic\n",
    "from dotenv import load_dotenv\n",
    "from pprint import PrettyPrinter\n",
    "from googleapiclient.discovery import build\n",
    "\n",
    "\n",
    "# Load my api key that is stored as an environment variable into this environment\n",
    "load_dotenv()\n",
    "YT_CREDENTIALS = os.getenv(\"YOUTUBE_API_KEY\")\n",
    "\n",
    "#add the youtube id to the end of this preamble\n",
    "yt_preamble = \"https://www.youtube.com/watch?v=\"\n",
    "\n",
    "# PoliceActivity channel id\n",
    "Police_Activity_id = \"UCXMYxKMh3prxnM_4kYZuB3g\"\n",
    "\n"
   ]
  },
  {
   "cell_type": "code",
   "execution_count": 4,
   "metadata": {},
   "outputs": [
    {
     "name": "stdout",
     "output_type": "stream",
     "text": [
      "<class 'googleapiclient.discovery.Resource'>\n",
      "<class 'googleapiclient.http.HttpRequest'>\n"
     ]
    }
   ],
   "source": [
    "# making the query to the Police Activity youtube channel\n",
    "youtube = build('youtube','v3', developerKey=YT_CREDENTIALS)\n",
    "print(type(youtube))\n",
    "\n",
    "\n",
    "request = youtube.search().list(part='snippet',channelId=Police_Activity_id, type='video',maxResults=50)\n",
    "print(type(request))\n",
    "\n",
    "res = request.execute()\n",
    "\n",
    "\n"
   ]
  },
  {
   "cell_type": "code",
   "execution_count": 5,
   "metadata": {},
   "outputs": [
    {
     "name": "stdout",
     "output_type": "stream",
     "text": [
      "kind\n",
      "etag\n",
      "nextPageToken\n",
      "regionCode\n",
      "pageInfo\n",
      "items\n"
     ]
    }
   ],
   "source": [
    "for i in res:\n",
    "    print(i)"
   ]
  }
 ],
 "metadata": {
  "kernelspec": {
   "display_name": "rpd-yt-scraping",
   "language": "python",
   "name": "python3"
  },
  "language_info": {
   "codemirror_mode": {
    "name": "ipython",
    "version": 3
   },
   "file_extension": ".py",
   "mimetype": "text/x-python",
   "name": "python",
   "nbconvert_exporter": "python",
   "pygments_lexer": "ipython3",
   "version": "3.12.3"
  }
 },
 "nbformat": 4,
 "nbformat_minor": 2
}
